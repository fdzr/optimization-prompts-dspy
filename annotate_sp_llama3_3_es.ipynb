{
 "cells": [
  {
   "cell_type": "code",
   "execution_count": null,
   "id": "474b7b10",
   "metadata": {},
   "outputs": [],
   "source": [
    "from datetime import datetime\n",
    "import csv\n",
    "import copy\n",
    "\n",
    "import pandas as pd\n",
    "import dspy\n",
    "\n",
    "from programs import WrapperEnglishSPT, evaluate_answer\n",
    "from custom_evaluation import custom_evaluate"
   ]
  },
  {
   "cell_type": "code",
   "execution_count": null,
   "id": "8f938071",
   "metadata": {},
   "outputs": [],
   "source": [
    "lm = dspy.LM(\n",
    "    \"ollama_chat/llama3.3\",\n",
    "    api_base=\"http://localhost:11434\",\n",
    ")\n",
    "dspy.settings.configure(lm=lm)"
   ]
  },
  {
   "cell_type": "code",
   "execution_count": null,
   "id": "d2e9f8f5",
   "metadata": {},
   "outputs": [],
   "source": [
    "data = pd.read_csv(\"test_dwug_es.csv\")"
   ]
  },
  {
   "cell_type": "code",
   "execution_count": null,
   "id": "0cb548ba",
   "metadata": {},
   "outputs": [],
   "source": [
    "examples = []\n",
    "\n",
    "\n",
    "for _, row in data.iterrows():\n",
    "    examples.append(\n",
    "        dspy.Example(\n",
    "            sentence1=row[\"context_x\"],\n",
    "            sentence2=row[\"context_y\"],\n",
    "            target_word=row[\"lemma\"].split(\"_\")[0],\n",
    "            answer=row[\"judgment\"],\n",
    "        ).with_inputs(\"sentence1\", \"sentence2\", \"target_word\")\n",
    "    )"
   ]
  },
  {
   "cell_type": "code",
   "execution_count": null,
   "id": "33c56218",
   "metadata": {},
   "outputs": [],
   "source": [
    "program_spt_prompt_en_assertions = WrapperEnglishSPT().activate_assertions()\n",
    "program_spt_prompt_en_assertions.load(\n",
    "    \"compile-models/sp/es_spt_mipro_optimized_prompt_en_llama3-3-q4\"\n",
    ")"
   ]
  },
  {
   "cell_type": "code",
   "execution_count": null,
   "id": "b57cb6c7",
   "metadata": {},
   "outputs": [],
   "source": [
    "start_time = datetime.now()\n",
    "\n",
    "result = custom_evaluate(\n",
    "    examples,\n",
    "    evaluate_answer,\n",
    "    program_spt_prompt_en_assertions,\n",
    "    report_result=True,\n",
    "    debug=False,\n",
    ")\n",
    "\n",
    "print(f\"Elapsed time: {datetime.now() - start_time}\")"
   ]
  },
  {
   "cell_type": "code",
   "execution_count": null,
   "id": "b132776a",
   "metadata": {},
   "outputs": [],
   "source": [
    "reasoning = [item.reasoning if item else None for item in result]\n",
    "pred = [item.answer if item else None for item in result]"
   ]
  },
  {
   "cell_type": "code",
   "execution_count": null,
   "id": "9621b986",
   "metadata": {},
   "outputs": [],
   "source": [
    "annotated_data = pd.DataFrame()\n",
    "\n",
    "annotated_data[\"sentence1\"] = data[\"context_x\"].tolist()\n",
    "annotated_data[\"sentence2\"] = data[\"context_y\"].tolist()\n",
    "annotated_data[\"gold_label\"] = [item.answer for item in examples]\n",
    "annotated_data[\"prediction\"] = pred\n",
    "annotated_data[\"reasoning\"] = reasoning\n",
    "annotated_data[\"grouping1\"] = data[\"grouping_x\"].tolist()\n",
    "annotated_data[\"grouping2\"] = data[\"grouping_y\"].tolist()\n",
    "annotated_data[\"identifier1\"] = data[\"identifier1\"].tolist()\n",
    "annotated_data[\"identifier2\"] = data[\"identifier2\"].tolist()\n",
    "annotated_data[\"word\"] = data[\"lemma\"].tolist()\n",
    "annotated_data[\"judgment\"] = data[\"judgment\"].tolist()"
   ]
  },
  {
   "cell_type": "code",
   "execution_count": null,
   "id": "8bb7242c",
   "metadata": {},
   "outputs": [],
   "source": [
    "annotated_data.to_csv(\"sp-dwug-es-llama3_3.csv\", index=False)"
   ]
  }
 ],
 "metadata": {
  "kernelspec": {
   "display_name": "ex",
   "language": "python",
   "name": "python3"
  },
  "language_info": {
   "codemirror_mode": {
    "name": "ipython",
    "version": 3
   },
   "file_extension": ".py",
   "mimetype": "text/x-python",
   "name": "python",
   "nbconvert_exporter": "python",
   "pygments_lexer": "ipython3",
   "version": "3.12.4"
  }
 },
 "nbformat": 4,
 "nbformat_minor": 5
}
