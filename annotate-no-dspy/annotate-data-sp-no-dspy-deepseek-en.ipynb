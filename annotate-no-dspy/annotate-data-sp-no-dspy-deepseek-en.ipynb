{
 "cells": [
  {
   "cell_type": "code",
   "execution_count": null,
   "metadata": {},
   "outputs": [],
   "source": [
    "import copy\n",
    "\n",
    "import ollama\n",
    "import pandas as pd\n",
    "\n",
    "from es.ct import PROMPT as PROMPT_CT\n"
   ]
  },
  {
   "cell_type": "code",
   "execution_count": null,
   "metadata": {},
   "outputs": [],
   "source": [
    "model = \"deepseek-r1\"\n",
    "dataset = \"dwug-en\""
   ]
  },
  {
   "cell_type": "code",
   "execution_count": null,
   "metadata": {},
   "outputs": [],
   "source": [
    "data = pd.read_csv(\"../test_dwug_en.csv\")\n",
    "data.shape"
   ]
  },
  {
   "cell_type": "code",
   "execution_count": null,
   "metadata": {},
   "outputs": [],
   "source": [
    "data.columns"
   ]
  },
  {
   "cell_type": "code",
   "execution_count": null,
   "metadata": {},
   "outputs": [],
   "source": [
    "PROMPTS = {\n",
    "    \"ct\": PROMPT_CT,\n",
    "}"
   ]
  },
  {
   "cell_type": "code",
   "execution_count": null,
   "metadata": {},
   "outputs": [],
   "source": [
    "for prompt in PROMPTS.keys():\n",
    "    predicted_score = []\n",
    "    \n",
    "    for _, row in data.iterrows():\n",
    "        response = ollama.chat(\n",
    "            model=model,\n",
    "            messages=[\n",
    "                {\n",
    "                    \"role\": \"user\",\n",
    "                    \"content\": PROMPTS[prompt].format(\n",
    "                        target_word=row[\"lemma\"],\n",
    "                        sentence1=row[\"context_x\"],\n",
    "                        sentence2=row[\"context_y\"],\n",
    "                    ),\n",
    "                }\n",
    "            ],\n",
    "            options={\n",
    "                \"max_tokens\": 20,\n",
    "            },\n",
    "        )\n",
    "        \n",
    "        predicted_score.append(response[\"message\"][\"content\"])\n",
    "        \n",
    "    df = pd.DataFrame()\n",
    "    df[\"word\"] = data[\"lemma\"].tolist()\n",
    "    df[\"identifier1\"] = data[\"identifier1\"].tolist()\n",
    "    df[\"identifier2\"] = data[\"identifier2\"].tolist()\n",
    "    df[\"grouping1\"] = data[\"grouping_x\"].tolist()\n",
    "    df[\"grouping2\"] = data[\"grouping_y\"].tolist()\n",
    "    df[\"judgment\"] = data[\"judgment\"].tolist()\n",
    "    df[\"predicted_score\"] = copy.deepcopy(predicted_score)\n",
    "    df.to_csv(f\"./{prompt}-{model}-{dataset}.csv\", index=False)\n",
    "    "
   ]
  }
 ],
 "metadata": {
  "kernelspec": {
   "display_name": "ex",
   "language": "python",
   "name": "python3"
  },
  "language_info": {
   "codemirror_mode": {
    "name": "ipython",
    "version": 3
   },
   "file_extension": ".py",
   "mimetype": "text/x-python",
   "name": "python",
   "nbconvert_exporter": "python",
   "pygments_lexer": "ipython3",
   "version": "3.12.4"
  }
 },
 "nbformat": 4,
 "nbformat_minor": 2
}
