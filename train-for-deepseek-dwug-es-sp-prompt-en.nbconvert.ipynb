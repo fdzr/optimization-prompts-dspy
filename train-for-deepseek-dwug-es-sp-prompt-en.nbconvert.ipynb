{
 "cells": [
  {
   "cell_type": "code",
   "execution_count": 1,
   "id": "bf948194",
   "metadata": {
    "execution": {
     "iopub.execute_input": "2025-04-22T20:49:07.896469Z",
     "iopub.status.busy": "2025-04-22T20:49:07.896374Z",
     "iopub.status.idle": "2025-04-22T20:49:09.949716Z",
     "shell.execute_reply": "2025-04-22T20:49:09.949305Z"
    }
   },
   "outputs": [],
   "source": [
    "%load_ext autoreload\n",
    "%autoreload 2\n",
    "\n",
    "from typing import Literal, Union\n",
    "from pathlib import Path\n",
    "import csv\n",
    "from datetime import datetime\n",
    "import random\n",
    "\n",
    "\n",
    "import pandas as pd\n",
    "import dspy\n",
    "from dspy.evaluate import Evaluate\n",
    "from dspy.teleprompt import MIPROv2\n",
    "from sklearn.model_selection import train_test_split\n",
    "\n",
    "from programs import WrapperEnglishSPT, evaluate_answer\n",
    "from custom_evaluation import custom_evaluate"
   ]
  },
  {
   "cell_type": "code",
   "execution_count": 2,
   "id": "c2101f0d",
   "metadata": {
    "execution": {
     "iopub.execute_input": "2025-04-22T20:49:09.951735Z",
     "iopub.status.busy": "2025-04-22T20:49:09.951553Z",
     "iopub.status.idle": "2025-04-22T20:49:09.969897Z",
     "shell.execute_reply": "2025-04-22T20:49:09.969540Z"
    }
   },
   "outputs": [],
   "source": [
    "lm = dspy.LM(\n",
    "    \"ollama_chat/deepseek-r1:14b\",\n",
    "    api_base=\"http://localhost:11434\",\n",
    ")\n",
    "dspy.settings.configure(lm=lm)"
   ]
  },
  {
   "cell_type": "code",
   "execution_count": 3,
   "id": "914f34de",
   "metadata": {
    "execution": {
     "iopub.execute_input": "2025-04-22T20:49:09.971311Z",
     "iopub.status.busy": "2025-04-22T20:49:09.971218Z",
     "iopub.status.idle": "2025-04-22T20:49:09.988629Z",
     "shell.execute_reply": "2025-04-22T20:49:09.987490Z"
    }
   },
   "outputs": [
    {
     "data": {
      "text/plain": [
       "[\"<think>\\n\\n</think>\\n\\nGreetings! I'm DeepSeek-R1, an artificial intelligence assistant created by DeepSeek. I'm at your service and would be delighted to assist you with any inquiries or tasks you may have.\"]"
      ]
     },
     "execution_count": 3,
     "metadata": {},
     "output_type": "execute_result"
    }
   ],
   "source": [
    "lm(\"What is your name\")"
   ]
  },
  {
   "cell_type": "code",
   "execution_count": 4,
   "id": "3970207d",
   "metadata": {
    "execution": {
     "iopub.execute_input": "2025-04-22T20:49:09.990165Z",
     "iopub.status.busy": "2025-04-22T20:49:09.990018Z",
     "iopub.status.idle": "2025-04-22T20:49:10.041002Z",
     "shell.execute_reply": "2025-04-22T20:49:10.040739Z"
    }
   },
   "outputs": [
    {
     "data": {
      "text/plain": [
       "(8704, 8)"
      ]
     },
     "metadata": {},
     "output_type": "display_data"
    }
   ],
   "source": [
    "data = pd.read_csv(\"dev_dwug_es.csv\")\n",
    "display(data.shape)"
   ]
  },
  {
   "cell_type": "code",
   "execution_count": 5,
   "id": "f88f569e",
   "metadata": {
    "execution": {
     "iopub.execute_input": "2025-04-22T20:49:10.042442Z",
     "iopub.status.busy": "2025-04-22T20:49:10.042310Z",
     "iopub.status.idle": "2025-04-22T20:49:10.227864Z",
     "shell.execute_reply": "2025-04-22T20:49:10.227649Z"
    }
   },
   "outputs": [],
   "source": [
    "training_set = []\n",
    "\n",
    "for _, row in data.iterrows():\n",
    "    training_set.append(\n",
    "        dspy.Example(\n",
    "            sentence1=row[\"context_x\"],\n",
    "            sentence2=row[\"context_y\"],\n",
    "            target_word=row[\"lemma\"],\n",
    "            answer=int(row[\"judgment\"]),\n",
    "        ).with_inputs(\"sentence1\", \"sentence2\", \"target_word\")\n",
    "    )"
   ]
  },
  {
   "cell_type": "code",
   "execution_count": 6,
   "id": "f50d6697",
   "metadata": {
    "execution": {
     "iopub.execute_input": "2025-04-22T20:49:10.229366Z",
     "iopub.status.busy": "2025-04-22T20:49:10.229249Z",
     "iopub.status.idle": "2025-04-22T20:49:10.248410Z",
     "shell.execute_reply": "2025-04-22T20:49:10.248213Z"
    }
   },
   "outputs": [
    {
     "name": "stdout",
     "output_type": "stream",
     "text": [
      "1406\n",
      "1522\n",
      "2343\n",
      "3433\n",
      "899 282 225\n",
      "973 305 244\n",
      "1499 469 375\n",
      "2196 687 550\n"
     ]
    }
   ],
   "source": [
    "classes_1_es = [item for item in training_set if item.answer == 1]\n",
    "classes_2_es = [item for item in training_set if item.answer == 2]\n",
    "classes_3_es = [item for item in training_set if item.answer == 3]\n",
    "classes_4_es = [item for item in training_set if item.answer == 4]\n",
    "\n",
    "print(len(classes_1_es))\n",
    "print(len(classes_2_es))\n",
    "print(len(classes_3_es))\n",
    "print(len(classes_4_es))\n",
    "\n",
    "classes_1_train, classes_1_dev = train_test_split(\n",
    "    classes_1_es,\n",
    "    test_size=0.2,\n",
    "    random_state=42,\n",
    ")\n",
    "\n",
    "classes_1_train, classes_1_test = train_test_split(\n",
    "    classes_1_train, test_size=0.2, random_state=42\n",
    ")\n",
    "\n",
    "\n",
    "classes_2_train, classes_2_dev = train_test_split(\n",
    "    classes_2_es,\n",
    "    test_size=0.2,\n",
    "    random_state=42,\n",
    ")\n",
    "classes_2_train, classes_2_test = train_test_split(\n",
    "    classes_2_train, test_size=0.2, random_state=42\n",
    ")\n",
    "\n",
    "\n",
    "classes_3_train, classes_3_dev = train_test_split(\n",
    "    classes_3_es,\n",
    "    test_size=0.2,\n",
    "    random_state=42,\n",
    ")\n",
    "classes_3_train, classes_3_test = train_test_split(\n",
    "    classes_3_train, test_size=0.2, random_state=42\n",
    ")\n",
    "\n",
    "\n",
    "classes_4_train, classes_4_dev = train_test_split(\n",
    "    classes_4_es,\n",
    "    test_size=0.2,\n",
    "    random_state=42,\n",
    ")\n",
    "classes_4_train, classes_4_test = train_test_split(\n",
    "    classes_4_train,\n",
    "    test_size=0.2,\n",
    "    random_state=42,\n",
    ")\n",
    "\n",
    "print(len(classes_1_train), len(classes_1_dev), len(classes_1_test))\n",
    "print(len(classes_2_train), len(classes_2_dev), len(classes_2_test))\n",
    "print(len(classes_3_train), len(classes_3_dev), len(classes_3_test))\n",
    "print(len(classes_4_train), len(classes_4_dev), len(classes_4_test))"
   ]
  },
  {
   "cell_type": "code",
   "execution_count": 7,
   "id": "467de533",
   "metadata": {
    "execution": {
     "iopub.execute_input": "2025-04-22T20:49:10.249736Z",
     "iopub.status.busy": "2025-04-22T20:49:10.249568Z",
     "iopub.status.idle": "2025-04-22T20:49:10.264157Z",
     "shell.execute_reply": "2025-04-22T20:49:10.263912Z"
    }
   },
   "outputs": [],
   "source": [
    "program_spt_prompt_en_assertions = WrapperEnglishSPT().activate_assertions()"
   ]
  },
  {
   "cell_type": "code",
   "execution_count": 8,
   "id": "d4920d1a",
   "metadata": {
    "execution": {
     "iopub.execute_input": "2025-04-22T20:49:10.265398Z",
     "iopub.status.busy": "2025-04-22T20:49:10.265257Z",
     "iopub.status.idle": "2025-04-23T00:46:18.765442Z",
     "shell.execute_reply": "2025-04-23T00:46:18.765126Z"
    }
   },
   "outputs": [
    {
     "name": "stdout",
     "output_type": "stream",
     "text": [
      "Evaluating: 900 examples\n"
     ]
    },
    {
     "name": "stderr",
     "output_type": "stream",
     "text": [
      "2025/04/22 16:49:33 INFO dspy.primitives.assertions: SuggestionFailed: The output shoulb be 1 or 2 or 3 or 4. Please revise accordingly.\n"
     ]
    },
    {
     "name": "stderr",
     "output_type": "stream",
     "text": [
      "2025/04/22 16:50:47 INFO dspy.primitives.assertions: SuggestionFailed: The output shoulb be 1 or 2 or 3 or 4. Please revise accordingly.\n"
     ]
    },
    {
     "name": "stderr",
     "output_type": "stream",
     "text": [
      "2025/04/22 16:53:10 INFO dspy.primitives.assertions: SuggestionFailed: The output shoulb be 1 or 2 or 3 or 4. Please revise accordingly.\n"
     ]
    },
    {
     "name": "stderr",
     "output_type": "stream",
     "text": [
      "2025/04/22 16:54:20 INFO dspy.primitives.assertions: SuggestionFailed: The output shoulb be 1 or 2 or 3 or 4. Please revise accordingly.\n"
     ]
    },
    {
     "name": "stderr",
     "output_type": "stream",
     "text": [
      "2025/04/22 16:55:35 INFO dspy.primitives.assertions: SuggestionFailed: The output shoulb be 1 or 2 or 3 or 4. Please revise accordingly.\n"
     ]
    },
    {
     "name": "stderr",
     "output_type": "stream",
     "text": [
      "2025/04/22 16:55:35 INFO dspy.primitives.assertions: SuggestionFailed: The output shoulb be 1 or 2 or 3 or 4. Please revise accordingly.\n"
     ]
    },
    {
     "name": "stderr",
     "output_type": "stream",
     "text": [
      "2025/04/22 16:55:35 INFO dspy.primitives.assertions: SuggestionFailed: The output shoulb be 1 or 2 or 3 or 4. Please revise accordingly.\n"
     ]
    },
    {
     "name": "stderr",
     "output_type": "stream",
     "text": [
      "2025/04/22 16:58:11 INFO dspy.primitives.assertions: SuggestionFailed: The output shoulb be 1 or 2 or 3 or 4. Please revise accordingly.\n"
     ]
    },
    {
     "name": "stderr",
     "output_type": "stream",
     "text": [
      "2025/04/22 16:58:11 INFO dspy.primitives.assertions: SuggestionFailed: The output shoulb be 1 or 2 or 3 or 4. Please revise accordingly.\n"
     ]
    },
    {
     "name": "stderr",
     "output_type": "stream",
     "text": [
      "2025/04/22 16:58:11 INFO dspy.primitives.assertions: SuggestionFailed: The output shoulb be 1 or 2 or 3 or 4. Please revise accordingly.\n"
     ]
    },
    {
     "name": "stderr",
     "output_type": "stream",
     "text": [
      "2025/04/22 16:59:16 INFO dspy.primitives.assertions: SuggestionFailed: The output shoulb be 1 or 2 or 3 or 4. Please revise accordingly.\n"
     ]
    },
    {
     "name": "stderr",
     "output_type": "stream",
     "text": [
      "2025/04/22 16:59:16 INFO dspy.primitives.assertions: SuggestionFailed: The output shoulb be 1 or 2 or 3 or 4. Please revise accordingly.\n"
     ]
    },
    {
     "name": "stderr",
     "output_type": "stream",
     "text": [
      "2025/04/22 17:03:19 INFO dspy.primitives.assertions: SuggestionFailed: The output shoulb be 1 or 2 or 3 or 4. Please revise accordingly.\n"
     ]
    },
    {
     "name": "stderr",
     "output_type": "stream",
     "text": [
      "2025/04/22 17:03:19 INFO dspy.primitives.assertions: SuggestionFailed: The output shoulb be 1 or 2 or 3 or 4. Please revise accordingly.\n"
     ]
    },
    {
     "name": "stderr",
     "output_type": "stream",
     "text": [
      "2025/04/22 17:03:19 INFO dspy.primitives.assertions: SuggestionFailed: The output shoulb be 1 or 2 or 3 or 4. Please revise accordingly.\n"
     ]
    },
    {
     "name": "stderr",
     "output_type": "stream",
     "text": [
      "2025/04/22 17:03:19 INFO dspy.primitives.assertions: SuggestionFailed: The output shoulb be 1 or 2 or 3 or 4. Please revise accordingly.\n"
     ]
    },
    {
     "name": "stderr",
     "output_type": "stream",
     "text": [
      "2025/04/22 17:05:38 INFO dspy.primitives.assertions: SuggestionFailed: The output shoulb be 1 or 2 or 3 or 4. Please revise accordingly.\n"
     ]
    },
    {
     "name": "stderr",
     "output_type": "stream",
     "text": [
      "2025/04/22 17:06:57 INFO dspy.primitives.assertions: SuggestionFailed: The output shoulb be 1 or 2 or 3 or 4. Please revise accordingly.\n"
     ]
    },
    {
     "name": "stderr",
     "output_type": "stream",
     "text": [
      "2025/04/22 17:10:39 INFO dspy.primitives.assertions: SuggestionFailed: The output shoulb be 1 or 2 or 3 or 4. Please revise accordingly.\n"
     ]
    },
    {
     "name": "stderr",
     "output_type": "stream",
     "text": [
      "2025/04/22 17:10:39 INFO dspy.primitives.assertions: SuggestionFailed: The output shoulb be 1 or 2 or 3 or 4. Please revise accordingly.\n"
     ]
    },
    {
     "name": "stderr",
     "output_type": "stream",
     "text": [
      "2025/04/22 17:10:39 INFO dspy.primitives.assertions: SuggestionFailed: The output shoulb be 1 or 2 or 3 or 4. Please revise accordingly.\n"
     ]
    },
    {
     "name": "stderr",
     "output_type": "stream",
     "text": [
      "2025/04/22 17:10:39 INFO dspy.primitives.assertions: SuggestionFailed: The output shoulb be 1 or 2 or 3 or 4. Please revise accordingly.\n"
     ]
    },
    {
     "name": "stderr",
     "output_type": "stream",
     "text": [
      "2025/04/22 17:13:17 INFO dspy.primitives.assertions: SuggestionFailed: The output shoulb be 1 or 2 or 3 or 4. Please revise accordingly.\n"
     ]
    },
    {
     "name": "stderr",
     "output_type": "stream",
     "text": [
      "2025/04/22 17:20:45 INFO dspy.primitives.assertions: SuggestionFailed: The output shoulb be 1 or 2 or 3 or 4. Please revise accordingly.\n"
     ]
    },
    {
     "name": "stderr",
     "output_type": "stream",
     "text": [
      "2025/04/22 17:20:45 INFO dspy.primitives.assertions: SuggestionFailed: The output shoulb be 1 or 2 or 3 or 4. Please revise accordingly.\n"
     ]
    },
    {
     "name": "stderr",
     "output_type": "stream",
     "text": [
      "2025/04/22 17:20:45 INFO dspy.primitives.assertions: SuggestionFailed: The output shoulb be 1 or 2 or 3 or 4. Please revise accordingly.\n"
     ]
    },
    {
     "name": "stderr",
     "output_type": "stream",
     "text": [
      "2025/04/22 17:20:45 INFO dspy.primitives.assertions: SuggestionFailed: The output shoulb be 1 or 2 or 3 or 4. Please revise accordingly.\n"
     ]
    },
    {
     "name": "stderr",
     "output_type": "stream",
     "text": [
      "2025/04/22 17:22:02 INFO dspy.primitives.assertions: SuggestionFailed: The output shoulb be 1 or 2 or 3 or 4. Please revise accordingly.\n"
     ]
    },
    {
     "name": "stderr",
     "output_type": "stream",
     "text": [
      "2025/04/22 17:22:02 INFO dspy.primitives.assertions: SuggestionFailed: The output shoulb be 1 or 2 or 3 or 4. Please revise accordingly.\n"
     ]
    },
    {
     "name": "stderr",
     "output_type": "stream",
     "text": [
      "2025/04/22 17:22:02 INFO dspy.primitives.assertions: SuggestionFailed: The output shoulb be 1 or 2 or 3 or 4. Please revise accordingly.\n"
     ]
    },
    {
     "name": "stderr",
     "output_type": "stream",
     "text": [
      "2025/04/22 17:22:02 INFO dspy.primitives.assertions: SuggestionFailed: The output shoulb be 1 or 2 or 3 or 4. Please revise accordingly.\n"
     ]
    },
    {
     "name": "stderr",
     "output_type": "stream",
     "text": [
      "2025/04/22 17:24:31 INFO dspy.primitives.assertions: SuggestionFailed: The output shoulb be 1 or 2 or 3 or 4. Please revise accordingly.\n"
     ]
    },
    {
     "name": "stderr",
     "output_type": "stream",
     "text": [
      "2025/04/22 17:24:31 INFO dspy.primitives.assertions: SuggestionFailed: The output shoulb be 1 or 2 or 3 or 4. Please revise accordingly.\n"
     ]
    },
    {
     "name": "stderr",
     "output_type": "stream",
     "text": [
      "2025/04/22 17:35:48 INFO dspy.primitives.assertions: SuggestionFailed: The output shoulb be 1 or 2 or 3 or 4. Please revise accordingly.\n"
     ]
    },
    {
     "name": "stderr",
     "output_type": "stream",
     "text": [
      "2025/04/22 17:37:02 INFO dspy.primitives.assertions: SuggestionFailed: The output shoulb be 1 or 2 or 3 or 4. Please revise accordingly.\n"
     ]
    },
    {
     "name": "stderr",
     "output_type": "stream",
     "text": [
      "2025/04/22 18:18:18 INFO dspy.primitives.assertions: SuggestionFailed: The output shoulb be 1 or 2 or 3 or 4. Please revise accordingly.\n"
     ]
    },
    {
     "name": "stderr",
     "output_type": "stream",
     "text": [
      "2025/04/22 18:19:32 INFO dspy.primitives.assertions: SuggestionFailed: The output shoulb be 1 or 2 or 3 or 4. Please revise accordingly.\n"
     ]
    },
    {
     "name": "stderr",
     "output_type": "stream",
     "text": [
      "2025/04/22 18:22:00 INFO dspy.primitives.assertions: SuggestionFailed: The output shoulb be 1 or 2 or 3 or 4. Please revise accordingly.\n"
     ]
    },
    {
     "name": "stderr",
     "output_type": "stream",
     "text": [
      "2025/04/22 18:23:16 INFO dspy.primitives.assertions: SuggestionFailed: The output shoulb be 1 or 2 or 3 or 4. Please revise accordingly.\n"
     ]
    },
    {
     "name": "stderr",
     "output_type": "stream",
     "text": [
      "2025/04/22 18:24:23 INFO dspy.primitives.assertions: SuggestionFailed: The output shoulb be 1 or 2 or 3 or 4. Please revise accordingly.\n"
     ]
    },
    {
     "name": "stderr",
     "output_type": "stream",
     "text": [
      "2025/04/22 19:32:39 INFO dspy.primitives.assertions: SuggestionFailed: The output shoulb be 1 or 2 or 3 or 4. Please revise accordingly.\n"
     ]
    },
    {
     "name": "stderr",
     "output_type": "stream",
     "text": [
      "2025/04/22 19:33:49 INFO dspy.primitives.assertions: SuggestionFailed: The output shoulb be 1 or 2 or 3 or 4. Please revise accordingly.\n"
     ]
    },
    {
     "name": "stderr",
     "output_type": "stream",
     "text": [
      "2025/04/22 19:35:03 INFO dspy.primitives.assertions: SuggestionFailed: The output shoulb be 1 or 2 or 3 or 4. Please revise accordingly.\n"
     ]
    },
    {
     "name": "stderr",
     "output_type": "stream",
     "text": [
      "2025/04/22 20:43:48 INFO dspy.primitives.assertions: SuggestionFailed: The output shoulb be 1 or 2 or 3 or 4. Please revise accordingly.\n"
     ]
    },
    {
     "name": "stderr",
     "output_type": "stream",
     "text": [
      "2025/04/22 20:45:00 INFO dspy.primitives.assertions: SuggestionFailed: The output shoulb be 1 or 2 or 3 or 4. Please revise accordingly.\n"
     ]
    },
    {
     "name": "stderr",
     "output_type": "stream",
     "text": [
      "2025/04/22 20:45:00 INFO dspy.primitives.assertions: SuggestionFailed: The output shoulb be 1 or 2 or 3 or 4. Please revise accordingly.\n"
     ]
    },
    {
     "name": "stdout",
     "output_type": "stream",
     "text": [
      "Accurate examples: 350\n",
      "Bad-formatted examples: 3\n",
      "Accuracy: 39.01895206243032\n"
     ]
    }
   ],
   "source": [
    "custom_evaluate(\n",
    "    random.choices(classes_1_test, k=225)\n",
    "    + random.choices(classes_2_test, k=225)\n",
    "    + random.choices(classes_3_test, k=225)\n",
    "    + random.choices(classes_4_test, k=225),\n",
    "    evaluate_answer,\n",
    "    program_spt_prompt_en_assertions,\n",
    "    debug=False,\n",
    ")"
   ]
  },
  {
   "cell_type": "code",
   "execution_count": 9,
   "id": "2d28948e",
   "metadata": {
    "execution": {
     "iopub.execute_input": "2025-04-23T00:46:18.766585Z",
     "iopub.status.busy": "2025-04-23T00:46:18.766458Z",
     "iopub.status.idle": "2025-04-23T00:46:18.807167Z",
     "shell.execute_reply": "2025-04-23T00:46:18.806923Z"
    }
   },
   "outputs": [],
   "source": [
    "# %reload_ext autoreload\n",
    "\n",
    "# start_time = datetime.now()\n",
    "\n",
    "# teleprompter = MIPROv2(\n",
    "#     metric=evaluate_answer,\n",
    "#     task_model=lm,\n",
    "#     num_candidates=10,\n",
    "#     init_temperature=0.7,\n",
    "#     max_bootstrapped_demos=3,\n",
    "#     max_labeled_demos=4,\n",
    "#     verbose=False,\n",
    "# )\n",
    "\n",
    "# print(\"Optimizing program with MIPRO...\")\n",
    "# optimized_program = teleprompter.compile(\n",
    "#     program_spt_prompt_en_assertions.deepcopy(),\n",
    "#     trainset=random.choices(classes_1_train, k=500)\n",
    "#     + random.choices(classes_2_train, k=500)\n",
    "#     + random.choices(classes_3_train, k=500)\n",
    "#     + random.choices(classes_4_train, k=500),\n",
    "#     valset=random.choices(classes_1_dev, k=200)\n",
    "#     + random.choices(classes_2_dev, k=200)\n",
    "#     + random.choices(classes_3_dev, k=200)\n",
    "#     + random.choices(classes_4_dev, k=200),\n",
    "#     num_trials=15,\n",
    "#     minibatch_size=25,\n",
    "#     minibatch_full_eval_steps=10,\n",
    "#     minibatch=True,\n",
    "#     requires_permission_to_run=False,\n",
    "# )\n",
    "\n",
    "# optimized_program.save(f\"compile-models/sp/es_spt_mipro_optimized_prompt_en_deepseek-q4\")\n",
    "\n",
    "# print(f\"Elapsed time: {datetime.now() - start_time}\")"
   ]
  },
  {
   "cell_type": "code",
   "execution_count": 10,
   "id": "4c18c92f",
   "metadata": {
    "execution": {
     "iopub.execute_input": "2025-04-23T00:46:18.808542Z",
     "iopub.status.busy": "2025-04-23T00:46:18.808417Z",
     "iopub.status.idle": "2025-04-23T00:46:18.825902Z",
     "shell.execute_reply": "2025-04-23T00:46:18.825712Z"
    }
   },
   "outputs": [],
   "source": [
    "# import matplotlib.pyplot as plt\n",
    "\n",
    "\n",
    "# trial_logs = optimized_program.trial_logs\n",
    "\n",
    "# trial_numbers = list(trial_logs.keys())\n",
    "# scores = [trial_logs[trial][\"score\"] for trial in trial_numbers]\n",
    "\n",
    "# full_eval = [trial_logs[trial][\"full_eval\"] for trial in trial_numbers]\n",
    "\n",
    "# for trial_number, score, pruned in zip(trial_numbers, scores, full_eval):\n",
    "#     if pruned is False:\n",
    "#         plt.scatter(\n",
    "#             trial_number,\n",
    "#             score,\n",
    "#             color=\"grey\",\n",
    "#             label=(\n",
    "#                 \"Pruned Batch\"\n",
    "#                 if \"Pruned Batch\" not in plt.gca().get_legend_handles_labels()[1]\n",
    "#                 else \"\"\n",
    "#             ),\n",
    "#         )\n",
    "#     else:\n",
    "#         plt.scatter(\n",
    "#             trial_number,\n",
    "#             score,\n",
    "#             color=\"green\",\n",
    "#             label=(\n",
    "#                 \"Successful Batch\"\n",
    "#                 if \"Successful Batch\" not in plt.gca().get_legend_handles_labels()[1]\n",
    "#                 else \"\"\n",
    "#             ),\n",
    "#         )\n",
    "\n",
    "# plt.xlabel(\"Batch Number\")\n",
    "# plt.ylabel(\"Score\")\n",
    "# plt.title(\"Batch Scores\")\n",
    "# plt.grid(True)\n",
    "# plt.legend()\n",
    "# plt.show()"
   ]
  },
  {
   "cell_type": "code",
   "execution_count": 11,
   "id": "ba2dd5c3",
   "metadata": {
    "execution": {
     "iopub.execute_input": "2025-04-23T00:46:18.827040Z",
     "iopub.status.busy": "2025-04-23T00:46:18.826863Z",
     "iopub.status.idle": "2025-04-23T00:46:18.837475Z",
     "shell.execute_reply": "2025-04-23T00:46:18.837293Z"
    }
   },
   "outputs": [],
   "source": [
    "# best_score = 0\n",
    "# best_program_so_far = None\n",
    "\n",
    "\n",
    "# def get_signature(predictor):\n",
    "#     if hasattr(predictor, \"extended_signature\"):\n",
    "#         return predictor.extended_signature\n",
    "#     elif hasattr(predictor, \"signature\"):\n",
    "#         return predictor.signature\n",
    "\n",
    "\n",
    "# # print(f\"Baseline program | Score: {best_score}:\")\n",
    "# # for i, predictor in enumerate(WrapperEnglishSPT().predictors()):\n",
    "# #     print(f\"Prompt {i+1} Instruction: {get_signature(predictor).instructions}\")\n",
    "# # print()\n",
    "\n",
    "# print(\"----------------\")\n",
    "\n",
    "# for trial_num in optimized_program.trial_logs:\n",
    "#     program_score = optimized_program.trial_logs[trial_num][\"score\"]\n",
    "#     program_pruned = optimized_program.trial_logs[trial_num][\"full_eval\"]\n",
    "#     # if (\n",
    "#     #     program_score > best_score\n",
    "#     #     and program_pruned is True\n",
    "#     #     # and optimized_program.trial_logs[trial_num][\"full_eval\"]\n",
    "#     # ):\n",
    "#     if program_pruned is True:\n",
    "#         best_score = program_score\n",
    "#         best_program_so_far = optimized_program.trial_logs[trial_num][\"program\"]\n",
    "#     # if trial_num % 5 == 0:\n",
    "#     #     print(f\"Best program after {trial_num} batches | Score: {best_score}:\")\n",
    "#     #     for i, predictor in enumerate(best_program_so_far.predictors()):\n",
    "#     #         print(f\"Prompt {i+1} Instruction: {get_signature(predictor).instructions}\")\n",
    "#     #     print()\n",
    "    \n",
    "#         # print(f\"Best program with best score: {best_score}\")\n",
    "#         for i, predictor in enumerate(best_program_so_far.predictors()):\n",
    "#             print(f\"Prompt {trial_num} Instruction: {get_signature(predictor).instructions}\")\n",
    "#             print(best_score)\n",
    "#         print()"
   ]
  },
  {
   "cell_type": "code",
   "execution_count": 12,
   "id": "c6ca4087",
   "metadata": {
    "execution": {
     "iopub.execute_input": "2025-04-23T00:46:18.838562Z",
     "iopub.status.busy": "2025-04-23T00:46:18.838434Z",
     "iopub.status.idle": "2025-04-23T00:46:18.856741Z",
     "shell.execute_reply": "2025-04-23T00:46:18.856506Z"
    }
   },
   "outputs": [],
   "source": [
    "program_spt_prompt_en_assertions.load(\n",
    "    \"compile-models/sp/es_spt_mipro_optimized_prompt_en_deepseek-q4\"\n",
    ")"
   ]
  },
  {
   "cell_type": "code",
   "execution_count": 13,
   "id": "9a677495",
   "metadata": {
    "execution": {
     "iopub.execute_input": "2025-04-23T00:46:18.858055Z",
     "iopub.status.busy": "2025-04-23T00:46:18.857926Z",
     "iopub.status.idle": "2025-04-23T02:39:27.295391Z",
     "shell.execute_reply": "2025-04-23T02:39:27.295022Z"
    }
   },
   "outputs": [
    {
     "name": "stderr",
     "output_type": "stream",
     "text": [
      "2025/04/22 20:46:18 INFO dspy.primitives.assertions: SuggestionFailed: The output shoulb be 1 or 2 or 3 or 4. Please revise accordingly.\n"
     ]
    },
    {
     "name": "stdout",
     "output_type": "stream",
     "text": [
      "Evaluating: 900 examples\n"
     ]
    },
    {
     "name": "stderr",
     "output_type": "stream",
     "text": [
      "2025/04/22 20:49:57 INFO dspy.primitives.assertions: SuggestionFailed: The output shoulb be 1 or 2 or 3 or 4. Please revise accordingly.\n"
     ]
    },
    {
     "name": "stderr",
     "output_type": "stream",
     "text": [
      "2025/04/22 20:51:11 INFO dspy.primitives.assertions: SuggestionFailed: The output shoulb be 1 or 2 or 3 or 4. Please revise accordingly.\n"
     ]
    },
    {
     "name": "stderr",
     "output_type": "stream",
     "text": [
      "2025/04/22 20:51:11 INFO dspy.primitives.assertions: SuggestionFailed: The output shoulb be 1 or 2 or 3 or 4. Please revise accordingly.\n"
     ]
    },
    {
     "name": "stderr",
     "output_type": "stream",
     "text": [
      "2025/04/22 20:53:38 INFO dspy.primitives.assertions: SuggestionFailed: The output shoulb be 1 or 2 or 3 or 4. Please revise accordingly.\n"
     ]
    },
    {
     "name": "stderr",
     "output_type": "stream",
     "text": [
      "2025/04/22 20:53:38 INFO dspy.primitives.assertions: SuggestionFailed: The output shoulb be 1 or 2 or 3 or 4. Please revise accordingly.\n"
     ]
    },
    {
     "name": "stderr",
     "output_type": "stream",
     "text": [
      "2025/04/22 20:53:38 INFO dspy.primitives.assertions: SuggestionFailed: The output shoulb be 1 or 2 or 3 or 4. Please revise accordingly.\n"
     ]
    },
    {
     "name": "stderr",
     "output_type": "stream",
     "text": [
      "2025/04/22 20:53:38 INFO dspy.primitives.assertions: SuggestionFailed: The output shoulb be 1 or 2 or 3 or 4. Please revise accordingly.\n"
     ]
    },
    {
     "name": "stderr",
     "output_type": "stream",
     "text": [
      "2025/04/22 20:54:47 INFO dspy.primitives.assertions: SuggestionFailed: The output shoulb be 1 or 2 or 3 or 4. Please revise accordingly.\n"
     ]
    },
    {
     "name": "stderr",
     "output_type": "stream",
     "text": [
      "2025/04/22 20:54:47 INFO dspy.primitives.assertions: SuggestionFailed: The output shoulb be 1 or 2 or 3 or 4. Please revise accordingly.\n"
     ]
    },
    {
     "name": "stderr",
     "output_type": "stream",
     "text": [
      "2025/04/22 20:54:47 INFO dspy.primitives.assertions: SuggestionFailed: The output shoulb be 1 or 2 or 3 or 4. Please revise accordingly.\n"
     ]
    },
    {
     "name": "stderr",
     "output_type": "stream",
     "text": [
      "2025/04/22 20:54:47 INFO dspy.primitives.assertions: SuggestionFailed: The output shoulb be 1 or 2 or 3 or 4. Please revise accordingly.\n"
     ]
    },
    {
     "name": "stderr",
     "output_type": "stream",
     "text": [
      "2025/04/22 20:54:47 INFO dspy.primitives.assertions: SuggestionFailed: The output shoulb be 1 or 2 or 3 or 4. Please revise accordingly.\n"
     ]
    },
    {
     "name": "stderr",
     "output_type": "stream",
     "text": [
      "2025/04/22 20:54:47 INFO dspy.primitives.assertions: SuggestionFailed: The output shoulb be 1 or 2 or 3 or 4. Please revise accordingly.\n"
     ]
    },
    {
     "name": "stderr",
     "output_type": "stream",
     "text": [
      "2025/04/22 20:54:47 INFO dspy.primitives.assertions: SuggestionFailed: The output shoulb be 1 or 2 or 3 or 4. Please revise accordingly.\n"
     ]
    },
    {
     "name": "stderr",
     "output_type": "stream",
     "text": [
      "2025/04/22 20:54:47 INFO dspy.primitives.assertions: SuggestionFailed: The output shoulb be 1 or 2 or 3 or 4. Please revise accordingly.\n"
     ]
    },
    {
     "name": "stderr",
     "output_type": "stream",
     "text": [
      "2025/04/22 20:59:36 INFO dspy.primitives.assertions: SuggestionFailed: The output shoulb be 1 or 2 or 3 or 4. Please revise accordingly.\n"
     ]
    },
    {
     "name": "stderr",
     "output_type": "stream",
     "text": [
      "2025/04/22 20:59:36 INFO dspy.primitives.assertions: SuggestionFailed: The output shoulb be 1 or 2 or 3 or 4. Please revise accordingly.\n"
     ]
    },
    {
     "name": "stderr",
     "output_type": "stream",
     "text": [
      "2025/04/22 20:59:36 INFO dspy.primitives.assertions: SuggestionFailed: The output shoulb be 1 or 2 or 3 or 4. Please revise accordingly.\n"
     ]
    },
    {
     "name": "stderr",
     "output_type": "stream",
     "text": [
      "2025/04/22 21:00:52 INFO dspy.primitives.assertions: SuggestionFailed: The output shoulb be 1 or 2 or 3 or 4. Please revise accordingly.\n"
     ]
    },
    {
     "name": "stderr",
     "output_type": "stream",
     "text": [
      "2025/04/22 21:02:00 INFO dspy.primitives.assertions: SuggestionFailed: The output shoulb be 1 or 2 or 3 or 4. Please revise accordingly.\n"
     ]
    },
    {
     "name": "stderr",
     "output_type": "stream",
     "text": [
      "2025/04/22 21:02:00 INFO dspy.primitives.assertions: SuggestionFailed: The output shoulb be 1 or 2 or 3 or 4. Please revise accordingly.\n"
     ]
    },
    {
     "name": "stderr",
     "output_type": "stream",
     "text": [
      "2025/04/22 21:02:00 INFO dspy.primitives.assertions: SuggestionFailed: The output shoulb be 1 or 2 or 3 or 4. Please revise accordingly.\n"
     ]
    },
    {
     "name": "stderr",
     "output_type": "stream",
     "text": [
      "2025/04/22 21:02:00 INFO dspy.primitives.assertions: SuggestionFailed: The output shoulb be 1 or 2 or 3 or 4. Please revise accordingly.\n"
     ]
    },
    {
     "name": "stderr",
     "output_type": "stream",
     "text": [
      "2025/04/22 21:02:00 INFO dspy.primitives.assertions: SuggestionFailed: The output shoulb be 1 or 2 or 3 or 4. Please revise accordingly.\n"
     ]
    },
    {
     "name": "stderr",
     "output_type": "stream",
     "text": [
      "2025/04/22 21:03:11 INFO dspy.primitives.assertions: SuggestionFailed: The output shoulb be 1 or 2 or 3 or 4. Please revise accordingly.\n"
     ]
    },
    {
     "name": "stderr",
     "output_type": "stream",
     "text": [
      "2025/04/22 21:03:11 INFO dspy.primitives.assertions: SuggestionFailed: The output shoulb be 1 or 2 or 3 or 4. Please revise accordingly.\n"
     ]
    },
    {
     "name": "stderr",
     "output_type": "stream",
     "text": [
      "2025/04/22 21:03:11 INFO dspy.primitives.assertions: SuggestionFailed: The output shoulb be 1 or 2 or 3 or 4. Please revise accordingly.\n"
     ]
    },
    {
     "name": "stderr",
     "output_type": "stream",
     "text": [
      "2025/04/22 21:05:40 INFO dspy.primitives.assertions: SuggestionFailed: The output shoulb be 1 or 2 or 3 or 4. Please revise accordingly.\n"
     ]
    },
    {
     "name": "stderr",
     "output_type": "stream",
     "text": [
      "2025/04/22 21:06:59 INFO dspy.primitives.assertions: SuggestionFailed: The output shoulb be 1 or 2 or 3 or 4. Please revise accordingly.\n"
     ]
    },
    {
     "name": "stderr",
     "output_type": "stream",
     "text": [
      "2025/04/22 21:06:59 INFO dspy.primitives.assertions: SuggestionFailed: The output shoulb be 1 or 2 or 3 or 4. Please revise accordingly.\n"
     ]
    },
    {
     "name": "stderr",
     "output_type": "stream",
     "text": [
      "2025/04/22 21:09:26 INFO dspy.primitives.assertions: SuggestionFailed: The output shoulb be 1 or 2 or 3 or 4. Please revise accordingly.\n"
     ]
    },
    {
     "name": "stderr",
     "output_type": "stream",
     "text": [
      "2025/04/22 22:15:12 INFO dspy.primitives.assertions: SuggestionFailed: The output shoulb be 1 or 2 or 3 or 4. Please revise accordingly.\n"
     ]
    },
    {
     "name": "stderr",
     "output_type": "stream",
     "text": [
      "2025/04/22 22:25:00 INFO dspy.primitives.assertions: SuggestionFailed: The output shoulb be 1 or 2 or 3 or 4. Please revise accordingly.\n"
     ]
    },
    {
     "name": "stderr",
     "output_type": "stream",
     "text": [
      "2025/04/22 22:25:00 INFO dspy.primitives.assertions: SuggestionFailed: The output shoulb be 1 or 2 or 3 or 4. Please revise accordingly.\n"
     ]
    },
    {
     "name": "stderr",
     "output_type": "stream",
     "text": [
      "2025/04/22 22:25:00 INFO dspy.primitives.assertions: SuggestionFailed: The output shoulb be 1 or 2 or 3 or 4. Please revise accordingly.\n"
     ]
    },
    {
     "name": "stderr",
     "output_type": "stream",
     "text": [
      "2025/04/22 22:35:55 INFO dspy.primitives.assertions: SuggestionFailed: The output shoulb be 1 or 2 or 3 or 4. Please revise accordingly.\n"
     ]
    },
    {
     "name": "stderr",
     "output_type": "stream",
     "text": [
      "2025/04/22 22:35:55 INFO dspy.primitives.assertions: SuggestionFailed: The output shoulb be 1 or 2 or 3 or 4. Please revise accordingly.\n"
     ]
    },
    {
     "name": "stderr",
     "output_type": "stream",
     "text": [
      "2025/04/22 22:35:55 INFO dspy.primitives.assertions: SuggestionFailed: The output shoulb be 1 or 2 or 3 or 4. Please revise accordingly.\n"
     ]
    },
    {
     "name": "stdout",
     "output_type": "stream",
     "text": [
      "Accurate examples: 366\n",
      "Bad-formatted examples: 2\n",
      "Accuracy: 40.75723830734967\n"
     ]
    }
   ],
   "source": [
    "\n",
    "custom_evaluate(\n",
    "    random.choices(classes_1_test, k=225)\n",
    "    + random.choices(classes_2_test, k=225)\n",
    "    + random.choices(classes_3_test, k=225)\n",
    "    + random.choices(classes_4_test, k=225),\n",
    "    evaluate_answer,\n",
    "    program_spt_prompt_en_assertions,\n",
    "    debug=False,\n",
    ")"
   ]
  }
 ],
 "metadata": {
  "kernelspec": {
   "display_name": "ex",
   "language": "python",
   "name": "python3"
  },
  "language_info": {
   "codemirror_mode": {
    "name": "ipython",
    "version": 3
   },
   "file_extension": ".py",
   "mimetype": "text/x-python",
   "name": "python",
   "nbconvert_exporter": "python",
   "pygments_lexer": "ipython3",
   "version": "3.12.4"
  }
 },
 "nbformat": 4,
 "nbformat_minor": 5
}
